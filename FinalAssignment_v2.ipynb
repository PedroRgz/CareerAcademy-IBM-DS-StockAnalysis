{
 "cells": [
  {
   "cell_type": "code",
   "execution_count": 1,
   "metadata": {},
   "outputs": [],
   "source": [
    "import yfinance as yf\n",
    "import pandas as pd\n",
    "import requests\n",
    "from bs4 import BeautifulSoup\n",
    "import plotly.graph_objects as go\n",
    "from plotly.subplots import make_subplots"
   ]
  },
  {
   "cell_type": "markdown",
   "metadata": {},
   "source": [
    "1. `yfinance`: Esta es una biblioteca de Python que permite descargar datos históricos del mercado de Yahoo Finance. Se utiliza para obtener datos de acciones, opciones, futuros, etc.\n",
    "\n",
    "2. `pandas`: Es una biblioteca de Python para la manipulación y análisis de datos. Proporciona estructuras de datos y funciones necesarias para manipular y analizar conjuntos de datos grandes y complejos.\n",
    "\n",
    "3. `requests`: Esta biblioteca se utiliza para hacer solicitudes HTTP en Python. Puede ser utilizada para interactuar con servicios web.\n",
    "\n",
    "4. `bs4 (BeautifulSoup)`: BeautifulSoup es una biblioteca de Python para extraer datos de archivos HTML y XML. Se utiliza para web scraping, que es el proceso de recopilación de datos de sitios web.\n",
    "\n",
    "5. `plotly.graph_objects`: Esta es una biblioteca de Python para crear gráficos interactivos. Proporciona una interfaz de alto nivel para dibujar gráficos atractivos e informativos.\n",
    "\n",
    "6. `plotly.subplots`: Este módulo de Plotly se utiliza para crear subtramas, que son gráficos que tienen múltiples gráficos en una sola figura."
   ]
  },
  {
   "cell_type": "markdown",
   "metadata": {},
   "source": [
    "En Python, puedes ignorar las advertencias utilizando el módulo de warnings. Puedes usar la función filterwarnings para filtrar o ignorar mensajes o categorías de advertencia específicos.\n"
   ]
  },
  {
   "cell_type": "code",
   "execution_count": null,
   "metadata": {},
   "outputs": [],
   "source": [
    "# Ignore all warnings\n",
    "import warnings\n",
    "warnings.filterwarnings(\"ignore\", category=FutureWarning)"
   ]
  }
 ],
 "metadata": {
  "kernelspec": {
   "display_name": "Python 3",
   "language": "python",
   "name": "python3"
  },
  "language_info": {
   "codemirror_mode": {
    "name": "ipython",
    "version": 3
   },
   "file_extension": ".py",
   "mimetype": "text/x-python",
   "name": "python",
   "nbconvert_exporter": "python",
   "pygments_lexer": "ipython3",
   "version": "3.10.8"
  }
 },
 "nbformat": 4,
 "nbformat_minor": 2
}
